{
 "cells": [
  {
   "cell_type": "code",
   "execution_count": 5,
   "metadata": {},
   "outputs": [
    {
     "name": "stdout",
     "output_type": "stream",
     "text": [
      "Requirement already satisfied: pytesseract in /opt/homebrew/Cellar/jupyterlab/4.2.5_1/libexec/lib/python3.12/site-packages (0.3.13)\n",
      "Requirement already satisfied: packaging>=21.3 in /opt/homebrew/Cellar/jupyterlab/4.2.5_1/libexec/lib/python3.12/site-packages (from pytesseract) (24.1)\n",
      "Requirement already satisfied: Pillow>=8.0.0 in /opt/homebrew/Cellar/jupyterlab/4.2.5_1/libexec/lib/python3.12/site-packages (from pytesseract) (11.0.0)\n",
      "\n",
      "\u001b[1m[\u001b[0m\u001b[34;49mnotice\u001b[0m\u001b[1;39;49m]\u001b[0m\u001b[39;49m A new release of pip is available: \u001b[0m\u001b[31;49m24.2\u001b[0m\u001b[39;49m -> \u001b[0m\u001b[32;49m24.3.1\u001b[0m\n",
      "\u001b[1m[\u001b[0m\u001b[34;49mnotice\u001b[0m\u001b[1;39;49m]\u001b[0m\u001b[39;49m To update, run: \u001b[0m\u001b[32;49m/opt/homebrew/Cellar/jupyterlab/4.2.5_1/libexec/bin/python -m pip install --upgrade pip\u001b[0m\n",
      "Note: you may need to restart the kernel to use updated packages.\n"
     ]
    }
   ],
   "source": [
    "pip install pytesseract"
   ]
  },
  {
   "cell_type": "code",
   "execution_count": 6,
   "metadata": {},
   "outputs": [
    {
     "name": "stdout",
     "output_type": "stream",
     "text": [
      "Requirement already satisfied: mysql in /opt/homebrew/Cellar/jupyterlab/4.2.5_1/libexec/lib/python3.12/site-packages (0.0.3)\n",
      "Requirement already satisfied: mysqlclient in /opt/homebrew/Cellar/jupyterlab/4.2.5_1/libexec/lib/python3.12/site-packages (from mysql) (2.2.6)\n",
      "\n",
      "\u001b[1m[\u001b[0m\u001b[34;49mnotice\u001b[0m\u001b[1;39;49m]\u001b[0m\u001b[39;49m A new release of pip is available: \u001b[0m\u001b[31;49m24.2\u001b[0m\u001b[39;49m -> \u001b[0m\u001b[32;49m24.3.1\u001b[0m\n",
      "\u001b[1m[\u001b[0m\u001b[34;49mnotice\u001b[0m\u001b[1;39;49m]\u001b[0m\u001b[39;49m To update, run: \u001b[0m\u001b[32;49m/opt/homebrew/Cellar/jupyterlab/4.2.5_1/libexec/bin/python -m pip install --upgrade pip\u001b[0m\n",
      "Note: you may need to restart the kernel to use updated packages.\n"
     ]
    }
   ],
   "source": [
    "pip install mysql"
   ]
  },
  {
   "cell_type": "code",
   "execution_count": 7,
   "metadata": {},
   "outputs": [
    {
     "name": "stdout",
     "output_type": "stream",
     "text": [
      "Requirement already satisfied: mysql-connector-python in /opt/homebrew/Cellar/jupyterlab/4.2.5_1/libexec/lib/python3.12/site-packages (9.1.0)\n",
      "Requirement already satisfied: google-auth in /opt/homebrew/Cellar/jupyterlab/4.2.5_1/libexec/lib/python3.12/site-packages (2.36.0)\n",
      "Requirement already satisfied: google-auth-httplib2 in /opt/homebrew/Cellar/jupyterlab/4.2.5_1/libexec/lib/python3.12/site-packages (0.2.0)\n",
      "Requirement already satisfied: google-api-python-client in /opt/homebrew/Cellar/jupyterlab/4.2.5_1/libexec/lib/python3.12/site-packages (2.153.0)\n",
      "Requirement already satisfied: cachetools<6.0,>=2.0.0 in /opt/homebrew/Cellar/jupyterlab/4.2.5_1/libexec/lib/python3.12/site-packages (from google-auth) (5.5.0)\n",
      "Requirement already satisfied: pyasn1-modules>=0.2.1 in /opt/homebrew/Cellar/jupyterlab/4.2.5_1/libexec/lib/python3.12/site-packages (from google-auth) (0.4.1)\n",
      "Requirement already satisfied: rsa<5,>=3.1.4 in /opt/homebrew/Cellar/jupyterlab/4.2.5_1/libexec/lib/python3.12/site-packages (from google-auth) (4.9)\n",
      "Requirement already satisfied: httplib2>=0.19.0 in /opt/homebrew/Cellar/jupyterlab/4.2.5_1/libexec/lib/python3.12/site-packages (from google-auth-httplib2) (0.22.0)\n",
      "Requirement already satisfied: google-api-core!=2.0.*,!=2.1.*,!=2.2.*,!=2.3.0,<3.0.0.dev0,>=1.31.5 in /opt/homebrew/Cellar/jupyterlab/4.2.5_1/libexec/lib/python3.12/site-packages (from google-api-python-client) (2.23.0)\n",
      "Requirement already satisfied: uritemplate<5,>=3.0.1 in /opt/homebrew/Cellar/jupyterlab/4.2.5_1/libexec/lib/python3.12/site-packages (from google-api-python-client) (4.1.1)\n",
      "Requirement already satisfied: googleapis-common-protos<2.0.dev0,>=1.56.2 in /opt/homebrew/Cellar/jupyterlab/4.2.5_1/libexec/lib/python3.12/site-packages (from google-api-core!=2.0.*,!=2.1.*,!=2.2.*,!=2.3.0,<3.0.0.dev0,>=1.31.5->google-api-python-client) (1.66.0)\n",
      "Requirement already satisfied: protobuf!=3.20.0,!=3.20.1,!=4.21.0,!=4.21.1,!=4.21.2,!=4.21.3,!=4.21.4,!=4.21.5,<6.0.0.dev0,>=3.19.5 in /opt/homebrew/Cellar/jupyterlab/4.2.5_1/libexec/lib/python3.12/site-packages (from google-api-core!=2.0.*,!=2.1.*,!=2.2.*,!=2.3.0,<3.0.0.dev0,>=1.31.5->google-api-python-client) (5.28.3)\n",
      "Requirement already satisfied: proto-plus<2.0.0dev,>=1.22.3 in /opt/homebrew/Cellar/jupyterlab/4.2.5_1/libexec/lib/python3.12/site-packages (from google-api-core!=2.0.*,!=2.1.*,!=2.2.*,!=2.3.0,<3.0.0.dev0,>=1.31.5->google-api-python-client) (1.25.0)\n",
      "Requirement already satisfied: requests<3.0.0.dev0,>=2.18.0 in /opt/homebrew/Cellar/jupyterlab/4.2.5_1/libexec/lib/python3.12/site-packages (from google-api-core!=2.0.*,!=2.1.*,!=2.2.*,!=2.3.0,<3.0.0.dev0,>=1.31.5->google-api-python-client) (2.32.3)\n",
      "Requirement already satisfied: pyparsing!=3.0.0,!=3.0.1,!=3.0.2,!=3.0.3,<4,>=2.4.2 in /opt/homebrew/Cellar/jupyterlab/4.2.5_1/libexec/lib/python3.12/site-packages (from httplib2>=0.19.0->google-auth-httplib2) (3.2.0)\n",
      "Requirement already satisfied: pyasn1<0.7.0,>=0.4.6 in /opt/homebrew/Cellar/jupyterlab/4.2.5_1/libexec/lib/python3.12/site-packages (from pyasn1-modules>=0.2.1->google-auth) (0.6.1)\n",
      "Requirement already satisfied: charset-normalizer<4,>=2 in /opt/homebrew/Cellar/jupyterlab/4.2.5_1/libexec/lib/python3.12/site-packages (from requests<3.0.0.dev0,>=2.18.0->google-api-core!=2.0.*,!=2.1.*,!=2.2.*,!=2.3.0,<3.0.0.dev0,>=1.31.5->google-api-python-client) (3.3.2)\n",
      "Requirement already satisfied: idna<4,>=2.5 in /opt/homebrew/Cellar/jupyterlab/4.2.5_1/libexec/lib/python3.12/site-packages (from requests<3.0.0.dev0,>=2.18.0->google-api-core!=2.0.*,!=2.1.*,!=2.2.*,!=2.3.0,<3.0.0.dev0,>=1.31.5->google-api-python-client) (3.8)\n",
      "Requirement already satisfied: urllib3<3,>=1.21.1 in /opt/homebrew/Cellar/jupyterlab/4.2.5_1/libexec/lib/python3.12/site-packages (from requests<3.0.0.dev0,>=2.18.0->google-api-core!=2.0.*,!=2.1.*,!=2.2.*,!=2.3.0,<3.0.0.dev0,>=1.31.5->google-api-python-client) (2.2.2)\n",
      "Requirement already satisfied: certifi>=2017.4.17 in /opt/homebrew/opt/certifi/lib/python3.12/site-packages (from requests<3.0.0.dev0,>=2.18.0->google-api-core!=2.0.*,!=2.1.*,!=2.2.*,!=2.3.0,<3.0.0.dev0,>=1.31.5->google-api-python-client) (2024.8.30)\n",
      "\n",
      "\u001b[1m[\u001b[0m\u001b[34;49mnotice\u001b[0m\u001b[1;39;49m]\u001b[0m\u001b[39;49m A new release of pip is available: \u001b[0m\u001b[31;49m24.2\u001b[0m\u001b[39;49m -> \u001b[0m\u001b[32;49m24.3.1\u001b[0m\n",
      "\u001b[1m[\u001b[0m\u001b[34;49mnotice\u001b[0m\u001b[1;39;49m]\u001b[0m\u001b[39;49m To update, run: \u001b[0m\u001b[32;49m/opt/homebrew/Cellar/jupyterlab/4.2.5_1/libexec/bin/python -m pip install --upgrade pip\u001b[0m\n",
      "Note: you may need to restart the kernel to use updated packages.\n"
     ]
    }
   ],
   "source": [
    "pip install mysql-connector-python google-auth google-auth-httplib2 google-api-python-client"
   ]
  },
  {
   "cell_type": "code",
   "execution_count": 8,
   "metadata": {},
   "outputs": [
    {
     "name": "stdout",
     "output_type": "stream",
     "text": [
      "Requirement already satisfied: pillow in /opt/homebrew/Cellar/jupyterlab/4.2.5_1/libexec/lib/python3.12/site-packages (11.0.0)\n",
      "\n",
      "\u001b[1m[\u001b[0m\u001b[34;49mnotice\u001b[0m\u001b[1;39;49m]\u001b[0m\u001b[39;49m A new release of pip is available: \u001b[0m\u001b[31;49m24.2\u001b[0m\u001b[39;49m -> \u001b[0m\u001b[32;49m24.3.1\u001b[0m\n",
      "\u001b[1m[\u001b[0m\u001b[34;49mnotice\u001b[0m\u001b[1;39;49m]\u001b[0m\u001b[39;49m To update, run: \u001b[0m\u001b[32;49m/opt/homebrew/Cellar/jupyterlab/4.2.5_1/libexec/bin/python -m pip install --upgrade pip\u001b[0m\n",
      "Note: you may need to restart the kernel to use updated packages.\n"
     ]
    }
   ],
   "source": [
    "pip install pillow"
   ]
  },
  {
   "cell_type": "code",
   "execution_count": 9,
   "metadata": {},
   "outputs": [],
   "source": [
    "import pytesseract\n",
    "from PIL import Image\n",
    "import re\n",
    "pytesseract.pytesseract.tesseract_cmd = r'/opt/homebrew/bin/tesseract'\n"
   ]
  },
  {
   "cell_type": "code",
   "execution_count": 10,
   "metadata": {},
   "outputs": [],
   "source": [
    "def extract_nutritional_facts(image_path):\n",
    "    image = Image.open(image_path)\n",
    "    text = pytesseract.image_to_string(image)\n",
    "    print(\"Raw OCR Output:\\n\", text)\n",
    "\n",
    "    patterns = {\n",
    "        'Calories': r'Calories\\s+(\\d+)',\n",
    "        'Total Fat': r'Total Fat\\s+(\\d+g)',\n",
    "        'Sodium': r'Sodium\\s+(\\d+mg)',\n",
    "        'Total Carbohydrate': r'Total Carbohydrate\\s+(\\d+g)',\n",
    "        'Protein': r'Protein\\s+(\\d+g)'\n",
    "    }\n",
    "    \n",
    "    nutrition_facts = {}\n",
    "\n",
    "    for nutrient, pattern in patterns.items():\n",
    "        match = re.search(pattern, text)\n",
    "        if match:\n",
    "            nutrition_facts[nutrient] = match.group(1)\n",
    "\n",
    "    for key, value in nutrition_facts.items():\n",
    "        try:\n",
    "            if 'g' in value:\n",
    "                nutrition_facts[key] = float(value.replace('g', ''))\n",
    "            elif 'mg' in value:\n",
    "                nutrition_facts[key] = float(value.replace('mg', '')) / 1000\n",
    "        except ValueError:\n",
    "            print(f\"Could not convert value for {key}: '{value}'\")\n",
    "\n",
    "    return nutrition_facts"
   ]
  },
  {
   "cell_type": "code",
   "execution_count": 11,
   "metadata": {},
   "outputs": [
    {
     "name": "stdout",
     "output_type": "stream",
     "text": [
      "Raw OCR Output:\n",
      " Nutrition Facts\n",
      "\n",
      "8 servings per container\n",
      "Serving size 2/3 cup (55g)\n",
      "\n",
      "Amount per serving\n",
      "Calories 230\n",
      "\n",
      "% Daily Value*\n",
      "\n",
      "Total Fat 8g 10%\n",
      "Saturated Fat ig 5%\n",
      "Trans Fat 0g\n",
      "\n",
      "Cholesterol Omg 0%\n",
      "\n",
      "Sodium 160mg 7%\n",
      "\n",
      "Total Carbohydrate 37g 13%\n",
      "Dietary Fiber 4g 14%\n",
      "\n",
      "Total Sugars 12g\n",
      "Includes 10g Added Sugars 20%\n",
      "Protein 3g\n",
      "\n",
      "Vitamin D 2mcg 10%\n",
      "Calcium 260mg 20%\n",
      "Iron 8mg 45%\n",
      "Potassium 240mg 6%\n",
      "————— ool\n",
      "\n",
      "* The % Daily Value (DV) tells you how much a nutrient in\n",
      "a serving of food contributes to a daily diet. 2,000 calories\n",
      "a day is used for general nutrition advice.\n",
      "\n",
      "(For educational purposes only. These labels do not meet\n",
      "the labeling requirements described in 21 CFR 101.9.)\n",
      "\n",
      "Could not convert value for Sodium: '160mg'\n",
      "\n",
      "Extracted Nutritional Facts:\n",
      " {'Calories': '230', 'Total Fat': 8.0, 'Sodium': '160mg', 'Total Carbohydrate': 37.0, 'Protein': 3.0}\n"
     ]
    }
   ],
   "source": [
    "image_path = 'nutrition_label.jpg'\n",
    "nutrition_facts = extract_nutritional_facts(image_path)\n",
    "print(\"\\nExtracted Nutritional Facts:\\n\", nutrition_facts)"
   ]
  },
  {
   "cell_type": "code",
   "execution_count": 12,
   "metadata": {},
   "outputs": [
    {
     "name": "stdout",
     "output_type": "stream",
     "text": [
      "Nutrition Facts\n",
      "\n",
      "8 servings per container\n",
      "Serving size 2/3 cup (55g)\n",
      "\n",
      "Amount per serving\n",
      "Calories 230\n",
      "\n",
      "% Daily Value*\n",
      "\n",
      "Total Fat 8g 10%\n",
      "Saturated Fat ig 5%\n",
      "Trans Fat 0g\n",
      "\n",
      "Cholesterol Omg 0%\n",
      "\n",
      "Sodium 160mg 7%\n",
      "\n",
      "Total Carbohydrate 37g 13%\n",
      "Dietary Fiber 4g 14%\n",
      "\n",
      "Total Sugars 12g\n",
      "Includes 10g Added Sugars 20%\n",
      "Protein 3g\n",
      "\n",
      "Vitamin D 2mcg 10%\n",
      "Calcium 260mg 20%\n",
      "Iron 8mg 45%\n",
      "Potassium 240mg 6%\n",
      "————— ool\n",
      "\n",
      "* The % Daily Value (DV) tells you how much a nutrient in\n",
      "a serving of food contributes to a daily diet. 2,000 calories\n",
      "a day is used for general nutrition advice.\n",
      "\n",
      "(For educational purposes only. These labels do not meet\n",
      "the labeling requirements described in 21 CFR 101.9.)\n",
      "\n"
     ]
    }
   ],
   "source": [
    "import pytesseract\n",
    "from PIL import Image\n",
    "\n",
    "# Set Tesseract path (if necessary on macOS)\n",
    "# pytesseract.pytesseract.tesseract_cmd = \"/usr/local/bin/tesseract\"\n",
    "\n",
    "# Load the image\n",
    "image_path = 'nutrition_label.jpg'\n",
    "image = Image.open(image_path)\n",
    "\n",
    "# Extract text using Tesseract\n",
    "extracted_text = pytesseract.image_to_string(image)\n",
    "print(extracted_text)"
   ]
  },
  {
   "cell_type": "code",
   "execution_count": 13,
   "metadata": {},
   "outputs": [
    {
     "name": "stdout",
     "output_type": "stream",
     "text": [
      "Nutrition Facts\n",
      "\n",
      "8 servings per container\n",
      "Serving size 2/3 cup (55g)\n",
      "\n",
      "Amount per serving\n",
      "Calories 230\n",
      "\n",
      "% Daily Value*\n",
      "\n",
      "Total Fat 8g 10%\n",
      "Saturated Fat ig 5%\n",
      "Trans Fat 0g\n",
      "\n",
      "Cholesterol Omg 0%\n",
      "\n",
      "Sodium 160mg 7%\n",
      "\n",
      "Total Carbohydrate 37g 13%\n",
      "Dietary Fiber 4g 14%\n",
      "\n",
      "Total Sugars 12g\n",
      "Includes 10g Added Sugars 20%\n",
      "Protein 3g\n",
      "\n",
      "Vitamin D 2mcg 10%\n",
      "Calcium 260mg 20%\n",
      "Iron 8mg 45%\n",
      "Potassium 240mg 6%\n",
      "————— ool\n",
      "\n",
      "* The % Daily Value (DV) tells you how much a nutrient in\n",
      "a serving of food contributes to a daily diet. 2,000 calories\n",
      "a day is used for general nutrition advice.\n",
      "\n",
      "(For educational purposes only. These labels do not meet\n",
      "the labeling requirements described in 21 CFR 101.9.)\n",
      "\n"
     ]
    }
   ],
   "source": [
    "extracted_text = pytesseract.image_to_string(image)\n",
    "print(extracted_text)"
   ]
  },
  {
   "cell_type": "code",
   "execution_count": 14,
   "metadata": {},
   "outputs": [
    {
     "name": "stdout",
     "output_type": "stream",
     "text": [
      "Serving Size: 2/3 cup (55g)\n",
      "Calories 230\n",
      "Total Fat 8g\n",
      "Cholesterol 0mg\n",
      "Sodium 160mg\n",
      "Total Carbohydrate 37g\n",
      "Protein 3g\n",
      "\n",
      "Calories: 230\n",
      "Total Fat: 8g\n",
      "Cholesterol: 0mg\n",
      "Sodium: 160mg\n",
      "Total Carbohydrate: 37g\n",
      "Protein: 3g\n"
     ]
    }
   ],
   "source": [
    "import re\n",
    "\n",
    "# Sample extracted text (replace with `extracted_text` variable in real use)\n",
    "text = \"\"\"\n",
    "Nutrition Facts\n",
    "Serving Size 2/3 cup (55g)\n",
    "Calories 230\n",
    "Total Fat 8g\n",
    "Cholesterol 0mg\n",
    "Sodium 160mg\n",
    "Total Carbohydrate 37g\n",
    "Protein 3g\n",
    "\"\"\"\n",
    "\n",
    "# Define regex patterns for each field\n",
    "serving_size_pattern = r\"Serving Size\\s+([\\w\\s\\(\\)\\/]+)\"\n",
    "calories_pattern = r\"Calories\\s+(\\d+)\"\n",
    "total_fat_pattern = r\"Total Fat\\s+(\\d+g)\"\n",
    "cholesterol_pattern = r\"Cholesterol\\s+(\\d+mg)\"\n",
    "sodium_pattern = r\"Sodium\\s+(\\d+mg)\"\n",
    "total_carbohydrate_pattern = r\"Total Carbohydrate\\s+(\\d+g)\"\n",
    "protein_pattern = r\"Protein\\s+(\\d+g)\"\n",
    "\n",
    "# Extract each field using regex search\n",
    "serving_size = re.search(serving_size_pattern, text).group(1)\n",
    "calories = re.search(calories_pattern, text).group(1)\n",
    "total_fat = re.search(total_fat_pattern, text).group(1)\n",
    "cholesterol = re.search(cholesterol_pattern, text).group(1)\n",
    "sodium = re.search(sodium_pattern, text).group(1)\n",
    "total_carbohydrate = re.search(total_carbohydrate_pattern, text).group(1)\n",
    "protein = re.search(protein_pattern, text).group(1)\n",
    "\n",
    "# Print extracted values\n",
    "print(\"Serving Size:\", serving_size)\n",
    "print(\"Calories:\", calories)\n",
    "print(\"Total Fat:\", total_fat)\n",
    "print(\"Cholesterol:\", cholesterol)\n",
    "print(\"Sodium:\", sodium)\n",
    "print(\"Total Carbohydrate:\", total_carbohydrate)\n",
    "print(\"Protein:\", protein)"
   ]
  },
  {
   "cell_type": "code",
   "execution_count": 15,
   "metadata": {},
   "outputs": [
    {
     "name": "stdout",
     "output_type": "stream",
     "text": [
      "{'Serving Size': '2/3 cup (55g)\\nCalories 230\\nTotal Fat 8g\\nCholesterol 0mg\\nSodium 160mg\\nTotal Carbohydrate 37g\\nProtein 3g\\n', 'Calories': '230', 'Total Fat': '8g', 'Cholesterol': '0mg', 'Sodium': '160mg', 'Total Carbohydrate': '37g', 'Protein': '3g'}\n"
     ]
    }
   ],
   "source": [
    "nutrition_data = {\n",
    "    \"Serving Size\": serving_size,\n",
    "    \"Calories\": calories,\n",
    "    \"Total Fat\": total_fat,\n",
    "    \"Cholesterol\": cholesterol,\n",
    "    \"Sodium\": sodium,\n",
    "    \"Total Carbohydrate\": total_carbohydrate,\n",
    "    \"Protein\": protein\n",
    "}\n",
    "\n",
    "print(nutrition_data)"
   ]
  },
  {
   "cell_type": "code",
   "execution_count": 16,
   "metadata": {},
   "outputs": [
    {
     "name": "stdout",
     "output_type": "stream",
     "text": [
      "Requirement already satisfied: mysql-connector-python in /opt/homebrew/Cellar/jupyterlab/4.2.5_1/libexec/lib/python3.12/site-packages (9.1.0)\n",
      "\n",
      "\u001b[1m[\u001b[0m\u001b[34;49mnotice\u001b[0m\u001b[1;39;49m]\u001b[0m\u001b[39;49m A new release of pip is available: \u001b[0m\u001b[31;49m24.2\u001b[0m\u001b[39;49m -> \u001b[0m\u001b[32;49m24.3.1\u001b[0m\n",
      "\u001b[1m[\u001b[0m\u001b[34;49mnotice\u001b[0m\u001b[1;39;49m]\u001b[0m\u001b[39;49m To update, run: \u001b[0m\u001b[32;49m/opt/homebrew/Cellar/jupyterlab/4.2.5_1/libexec/bin/python -m pip install --upgrade pip\u001b[0m\n",
      "Note: you may need to restart the kernel to use updated packages.\n"
     ]
    }
   ],
   "source": [
    "pip install mysql-connector-python"
   ]
  },
  {
   "cell_type": "code",
   "execution_count": null,
   "metadata": {},
   "outputs": [],
   "source": []
  },
  {
   "cell_type": "code",
   "execution_count": null,
   "metadata": {},
   "outputs": [],
   "source": []
  },
  {
   "cell_type": "code",
   "execution_count": 27,
   "metadata": {},
   "outputs": [
    {
     "name": "stdout",
     "output_type": "stream",
     "text": [
      "OCR Extracted Text:\n",
      "Nutrition Facts\n",
      "\n",
      "8 servings per container\n",
      "Serving size 2/3 cup (55g)\n",
      "\n",
      "Amount per serving\n",
      "Calories 230\n",
      "\n",
      "% Daily Value*\n",
      "\n",
      "Total Fat 8g 10%\n",
      "Saturated Fat ig 5%\n",
      "Trans Fat 0g\n",
      "\n",
      "Cholesterol Omg 0%\n",
      "\n",
      "Sodium 160mg 7%\n",
      "\n",
      "Total Carbohydrate 37g 13%\n",
      "Dietary Fiber 4g 14%\n",
      "\n",
      "Total Sugars 12g\n",
      "Includes 10g Added Sugars 20%\n",
      "Protein 3g\n",
      "\n",
      "Vitamin D 2mcg 10%\n",
      "Calcium 260mg 20%\n",
      "Iron 8mg 45%\n",
      "Potassium 240mg 6%\n",
      "————— ool\n",
      "\n",
      "* The % Daily Value (DV) tells you how much a nutrient in\n",
      "a serving of food contributes to a daily diet. 2,000 calories\n",
      "a day is used for general nutrition advice.\n",
      "\n",
      "(For educational purposes only. These labels do not meet\n",
      "the labeling requirements described in 21 CFR 101.9.)\n",
      "\n",
      "[{'id': 1, 'filename': 'nutrition_label.jpg', 'calories': 230, 'total_fat': Decimal('8.00'), 'cholesterol': Decimal('0.00'), 'sodium': Decimal('160.00'), 'carbohydrates': Decimal('37.00'), 'protein': Decimal('3.00')}]\n",
      "Warning: Could not find pattern 'Cholesterol\\s+(\\d+\\.\\d+|\\d+)mg' in text.\n",
      "Data inserted successfully.\n"
     ]
    },
    {
     "data": {
      "text/plain": [
       "'\\n# Extract values with fallback defaults\\ncalories = int(extract_value(calories_pattern, extracted_text, default=0))\\ntotal_fat = extract_value(total_fat_pattern, extracted_text, default=0.0)\\ncholesterol = extract_value(cholesterol_pattern, extracted_text, default=0.0)\\nsodium = extract_value(sodium_pattern, extracted_text, default=0.0)\\ncarbohydrates = extract_value(carbohydrates_pattern, extracted_text, default=0.0)\\nprotein = extract_value(protein_pattern, extracted_text, default=0.0)\\n\\n# Connect to MySQL\\ndb = mysql.connector.connect(\\n    host=\"localhost\",\\n    user=\"root\",\\n    password=\"fidelity\",\\n    database=\"NutriHub\"  # Replace with your actual database name\\n)\\n\\ncursor = db.cursor()\\n\\n# SQL Insert statement for the `label` table\\ninsert_query = \"\"\"\\nINSERT INTO label (calories, total_fat, cholesterol, sodium, carbohydrates, protein)\\nVALUES (%s, %s, %s,    %s, %s, %s)\\n\"\"\"\\n\\n# Execute the insert statement with parsed data\\ncursor.execute(insert_query, (\\n    calories,\\n    total_fat,\\n    cholesterol,\\n    sodium,\\n    carbohydrates,\\n    protein\\n))\\n\\n# Commit the transaction and close the connection\\ndb.commit()\\nprint(\"Data inserted successfully.\")\\ndb.close()\\n'"
      ]
     },
     "execution_count": 27,
     "metadata": {},
     "output_type": "execute_result"
    }
   ],
   "source": [
    "import re\n",
    "import mysql.connector\n",
    "from PIL import Image\n",
    "import pytesseract\n",
    "\n",
    "# Load the image and perform OCR\n",
    "image_path = 'nutrition_label.jpg'\n",
    "image = Image.open(image_path)\n",
    "extracted_text = pytesseract.image_to_string(image)\n",
    "\n",
    "# Print extracted text for debugging\n",
    "print(\"OCR Extracted Text:\")\n",
    "print(extracted_text)\n",
    "\n",
    "# Define regex patterns for each field\n",
    "calories_pattern = r\"Calories\\s+(\\d+)\"\n",
    "total_fat_pattern = r\"Total Fat\\s+(\\d+\\.\\d+|\\d+)g\"\n",
    "cholesterol_pattern = r\"Cholesterol\\s+(\\d+\\.\\d+|\\d+)mg\"\n",
    "sodium_pattern = r\"Sodium\\s+(\\d+\\.\\d+|\\d+)mg\"\n",
    "carbohydrates_pattern = r\"Total Carbohydrate\\s+(\\d+\\.\\d+|\\d+)g\"\n",
    "protein_pattern = r\"Protein\\s+(\\d+\\.\\d+|\\d+)g\"\n",
    "\n",
    "# Helper function to safely extract using regex\n",
    "def extract_value(pattern, text, default=0):\n",
    "    match = re.search(pattern, text)\n",
    "    if match:\n",
    "        return float(match.group(1))\n",
    "    else:\n",
    "        print(f\"Warning: Could not find pattern '{pattern}' in text.\")\n",
    "        return default\n",
    "       \n",
    "db_config = {\n",
    "    'user': 'root1',\n",
    "    'password': 'test',\n",
    "    'host': '35.237.230.58',  # Replace with Google Cloud SQL public IP\n",
    "    'database': 'my-sql-database'\n",
    "}\n",
    "\n",
    "connection = mysql.connector.connect(**db_config)\n",
    "cursor = connection.cursor(dictionary=True)\n",
    "cursor.execute(\"select * from label;\")\n",
    "results = cursor.fetchall()\n",
    "print(results)\n",
    "cursor.close()\n",
    "connection.close()\n",
    "\n",
    "\n",
    "# Extract values with fallback defaults\n",
    "calories = int(extract_value(calories_pattern, extracted_text, default=0))\n",
    "total_fat = extract_value(total_fat_pattern, extracted_text, default=0.0)\n",
    "cholesterol = extract_value(cholesterol_pattern, extracted_text, default=0.0)\n",
    "sodium = extract_value(sodium_pattern, extracted_text, default=0.0)\n",
    "carbohydrates = extract_value(carbohydrates_pattern, extracted_text, default=0.0)\n",
    "protein = extract_value(protein_pattern, extracted_text, default=0.0)\n",
    "filename=image_path\n",
    "\n",
    "connection = mysql.connector.connect(**db_config)\n",
    "cursor = connection.cursor()\n",
    "insert_query = \"INSERT INTO label (calories, total_fat, cholesterol, sodium, carbohydrates, protein, filename) VALUES (%s, %s, %s, %s, %s, %s, %s);\"\n",
    "cursor.execute(insert_query, (calories, total_fat, cholesterol, sodium, carbohydrates, protein, filename))\n",
    "connection.commit()\n",
    "print(\"Data inserted successfully.\")\n",
    "cursor.close()\n",
    "connection.close()\n",
    "\n",
    "\n",
    "\n",
    "'''\n",
    "# Extract values with fallback defaults\n",
    "calories = int(extract_value(calories_pattern, extracted_text, default=0))\n",
    "total_fat = extract_value(total_fat_pattern, extracted_text, default=0.0)\n",
    "cholesterol = extract_value(cholesterol_pattern, extracted_text, default=0.0)\n",
    "sodium = extract_value(sodium_pattern, extracted_text, default=0.0)\n",
    "carbohydrates = extract_value(carbohydrates_pattern, extracted_text, default=0.0)\n",
    "protein = extract_value(protein_pattern, extracted_text, default=0.0)\n",
    "\n",
    "# Connect to MySQL\n",
    "db = mysql.connector.connect(\n",
    "    host=\"localhost\",\n",
    "    user=\"root\",\n",
    "    password=\"fidelity\",\n",
    "    database=\"NutriHub\"  # Replace with your actual database name\n",
    ")\n",
    "\n",
    "cursor = db.cursor()\n",
    "\n",
    "# SQL Insert statement for the `label` table\n",
    "insert_query = \"\"\"\n",
    "INSERT INTO label (calories, total_fat, cholesterol, sodium, carbohydrates, protein)\n",
    "VALUES (%s, %s, %s,    %s, %s, %s)\n",
    "\"\"\"\n",
    "\n",
    "# Execute the insert statement with parsed data\n",
    "cursor.execute(insert_query, (\n",
    "    calories,\n",
    "    total_fat,\n",
    "    cholesterol,\n",
    "    sodium,\n",
    "    carbohydrates,\n",
    "    protein\n",
    "))\n",
    "\n",
    "# Commit the transaction and close the connection\n",
    "db.commit()\n",
    "print(\"Data inserted successfully.\")\n",
    "db.close()\n",
    "'''\n"
   ]
  },
  {
   "cell_type": "code",
   "execution_count": null,
   "metadata": {},
   "outputs": [],
   "source": []
  },
  {
   "cell_type": "code",
   "execution_count": null,
   "metadata": {},
   "outputs": [],
   "source": []
  },
  {
   "cell_type": "code",
   "execution_count": null,
   "metadata": {},
   "outputs": [],
   "source": []
  },
  {
   "cell_type": "code",
   "execution_count": null,
   "metadata": {},
   "outputs": [],
   "source": []
  },
  {
   "cell_type": "code",
   "execution_count": null,
   "metadata": {},
   "outputs": [],
   "source": []
  },
  {
   "cell_type": "code",
   "execution_count": null,
   "metadata": {},
   "outputs": [],
   "source": []
  },
  {
   "cell_type": "code",
   "execution_count": null,
   "metadata": {},
   "outputs": [],
   "source": []
  },
  {
   "cell_type": "code",
   "execution_count": null,
   "metadata": {},
   "outputs": [],
   "source": []
  },
  {
   "cell_type": "code",
   "execution_count": 2,
   "metadata": {},
   "outputs": [
    {
     "name": "stdout",
     "output_type": "stream",
     "text": [
      "Collecting flask\n",
      "  Downloading flask-3.1.0-py3-none-any.whl.metadata (2.7 kB)\n",
      "Collecting Werkzeug>=3.1 (from flask)\n",
      "  Using cached werkzeug-3.1.3-py3-none-any.whl.metadata (3.7 kB)\n",
      "Requirement already satisfied: Jinja2>=3.1.2 in /opt/homebrew/Cellar/jupyterlab/4.2.5_1/libexec/lib/python3.12/site-packages (from flask) (3.1.4)\n",
      "Collecting itsdangerous>=2.2 (from flask)\n",
      "  Using cached itsdangerous-2.2.0-py3-none-any.whl.metadata (1.9 kB)\n",
      "Collecting click>=8.1.3 (from flask)\n",
      "  Using cached click-8.1.7-py3-none-any.whl.metadata (3.0 kB)\n",
      "Collecting blinker>=1.9 (from flask)\n",
      "  Using cached blinker-1.9.0-py3-none-any.whl.metadata (1.6 kB)\n",
      "Requirement already satisfied: MarkupSafe>=2.0 in /opt/homebrew/Cellar/jupyterlab/4.2.5_1/libexec/lib/python3.12/site-packages (from Jinja2>=3.1.2->flask) (2.1.5)\n",
      "Downloading flask-3.1.0-py3-none-any.whl (102 kB)\n",
      "Using cached blinker-1.9.0-py3-none-any.whl (8.5 kB)\n",
      "Using cached click-8.1.7-py3-none-any.whl (97 kB)\n",
      "Using cached itsdangerous-2.2.0-py3-none-any.whl (16 kB)\n",
      "Using cached werkzeug-3.1.3-py3-none-any.whl (224 kB)\n",
      "Installing collected packages: Werkzeug, itsdangerous, click, blinker, flask\n",
      "Successfully installed Werkzeug-3.1.3 blinker-1.9.0 click-8.1.7 flask-3.1.0 itsdangerous-2.2.0\n",
      "\n",
      "\u001b[1m[\u001b[0m\u001b[34;49mnotice\u001b[0m\u001b[1;39;49m]\u001b[0m\u001b[39;49m A new release of pip is available: \u001b[0m\u001b[31;49m24.2\u001b[0m\u001b[39;49m -> \u001b[0m\u001b[32;49m24.3.1\u001b[0m\n",
      "\u001b[1m[\u001b[0m\u001b[34;49mnotice\u001b[0m\u001b[1;39;49m]\u001b[0m\u001b[39;49m To update, run: \u001b[0m\u001b[32;49m/opt/homebrew/Cellar/jupyterlab/4.2.5_1/libexec/bin/python -m pip install --upgrade pip\u001b[0m\n",
      "Note: you may need to restart the kernel to use updated packages.\n"
     ]
    }
   ],
   "source": [
    "pip install flask"
   ]
  },
  {
   "cell_type": "code",
   "execution_count": 3,
   "metadata": {},
   "outputs": [
    {
     "name": "stdout",
     "output_type": "stream",
     "text": [
      "Requirement already satisfied: flask in /opt/homebrew/Cellar/jupyterlab/4.2.5_1/libexec/lib/python3.12/site-packages (3.1.0)\n",
      "Requirement already satisfied: Werkzeug>=3.1 in /opt/homebrew/Cellar/jupyterlab/4.2.5_1/libexec/lib/python3.12/site-packages (from flask) (3.1.3)\n",
      "Requirement already satisfied: Jinja2>=3.1.2 in /opt/homebrew/Cellar/jupyterlab/4.2.5_1/libexec/lib/python3.12/site-packages (from flask) (3.1.4)\n",
      "Requirement already satisfied: itsdangerous>=2.2 in /opt/homebrew/Cellar/jupyterlab/4.2.5_1/libexec/lib/python3.12/site-packages (from flask) (2.2.0)\n",
      "Requirement already satisfied: click>=8.1.3 in /opt/homebrew/Cellar/jupyterlab/4.2.5_1/libexec/lib/python3.12/site-packages (from flask) (8.1.7)\n",
      "Requirement already satisfied: blinker>=1.9 in /opt/homebrew/Cellar/jupyterlab/4.2.5_1/libexec/lib/python3.12/site-packages (from flask) (1.9.0)\n",
      "Requirement already satisfied: MarkupSafe>=2.0 in /opt/homebrew/Cellar/jupyterlab/4.2.5_1/libexec/lib/python3.12/site-packages (from Jinja2>=3.1.2->flask) (2.1.5)\n",
      "\n",
      "\u001b[1m[\u001b[0m\u001b[34;49mnotice\u001b[0m\u001b[1;39;49m]\u001b[0m\u001b[39;49m A new release of pip is available: \u001b[0m\u001b[31;49m24.2\u001b[0m\u001b[39;49m -> \u001b[0m\u001b[32;49m24.3.1\u001b[0m\n",
      "\u001b[1m[\u001b[0m\u001b[34;49mnotice\u001b[0m\u001b[1;39;49m]\u001b[0m\u001b[39;49m To update, run: \u001b[0m\u001b[32;49m/opt/homebrew/Cellar/jupyterlab/4.2.5_1/libexec/bin/python -m pip install --upgrade pip\u001b[0m\n",
      "Note: you may need to restart the kernel to use updated packages.\n"
     ]
    }
   ],
   "source": [
    "pip install flask"
   ]
  },
  {
   "cell_type": "code",
   "execution_count": 4,
   "metadata": {},
   "outputs": [
    {
     "name": "stdout",
     "output_type": "stream",
     "text": [
      "\u001b[31mERROR: Could not find a version that satisfies the requirement request (from versions: none)\u001b[0m\u001b[31m\n",
      "\u001b[0m\n",
      "\u001b[1m[\u001b[0m\u001b[34;49mnotice\u001b[0m\u001b[1;39;49m]\u001b[0m\u001b[39;49m A new release of pip is available: \u001b[0m\u001b[31;49m24.2\u001b[0m\u001b[39;49m -> \u001b[0m\u001b[32;49m24.3.1\u001b[0m\n",
      "\u001b[1m[\u001b[0m\u001b[34;49mnotice\u001b[0m\u001b[1;39;49m]\u001b[0m\u001b[39;49m To update, run: \u001b[0m\u001b[32;49m/opt/homebrew/Cellar/jupyterlab/4.2.5_1/libexec/bin/python -m pip install --upgrade pip\u001b[0m\n",
      "\u001b[31mERROR: No matching distribution found for request\u001b[0m\u001b[31m\n",
      "\u001b[0mNote: you may need to restart the kernel to use updated packages.\n"
     ]
    }
   ],
   "source": [
    "pip install request"
   ]
  },
  {
   "cell_type": "code",
   "execution_count": 1,
   "metadata": {},
   "outputs": [
    {
     "ename": "ModuleNotFoundError",
     "evalue": "No module named 'flask'",
     "output_type": "error",
     "traceback": [
      "\u001b[0;31m---------------------------------------------------------------------------\u001b[0m",
      "\u001b[0;31mModuleNotFoundError\u001b[0m                       Traceback (most recent call last)",
      "Cell \u001b[0;32mIn[1], line 1\u001b[0m\n\u001b[0;32m----> 1\u001b[0m \u001b[38;5;28;01mfrom\u001b[39;00m \u001b[38;5;21;01mflask\u001b[39;00m \u001b[38;5;28;01mimport\u001b[39;00m Flask, request, jsonify\n\u001b[1;32m      2\u001b[0m \u001b[38;5;28;01mimport\u001b[39;00m \u001b[38;5;21;01mmysql\u001b[39;00m\u001b[38;5;21;01m.\u001b[39;00m\u001b[38;5;21;01mconnector\u001b[39;00m\n\u001b[1;32m      4\u001b[0m \u001b[38;5;66;03m# Initialize Flask app\u001b[39;00m\n",
      "\u001b[0;31mModuleNotFoundError\u001b[0m: No module named 'flask'"
     ]
    }
   ],
   "source": [
    "\n",
    "from flask import Flask, request, jsonify\n",
    "import mysql.connector\n",
    "\n",
    "# Initialize Flask app\n",
    "app = Flask(__name__)\n",
    "\n",
    "# Database configuration for Google Cloud MySQL\n",
    "db_config = {\n",
    "    'user': 'root1',\n",
    "    'password': 'test',\n",
    "    'host': '35.237.230.58',  # Replace with Google Cloud SQL public IP\n",
    "    'database': 'my-sql-database'\n",
    "}\n",
    "\n",
    "connection = mysql.connector.connect(**db_config)\n",
    "cursor = connection.cursor(dictionary=True)\n",
    "cursor.execute(\"SELECT * FROM label LIMIT 10;\")\n",
    "results = cursor.fetchall()\n",
    "cursor.close()\n",
    "connection.close()\n",
    "\n",
    "\n",
    "# Extract values with fallback defaults\n",
    "calories = int(extract_value(calories_pattern, extracted_text, default=0))\n",
    "total_fat = extract_value(total_fat_pattern, extracted_text, default=0.0)\n",
    "cholesterol = extract_value(cholesterol_pattern, extracted_text, default=0.0)\n",
    "sodium = extract_value(sodium_pattern, extracted_text, default=0.0)\n",
    "carbohydrates = extract_value(carbohydrates_pattern, extracted_text, default=0.0)\n",
    "protein = extract_value(protein_pattern, extracted_text, default=0.0)\n",
    "\n",
    "\n",
    "connection = mysql.connector.connect(**db_config)\n",
    "cursor = connection.cursor()\n",
    "insert_query = \"INSERT INTO label (calories, total_fat, cholesterol, sodium, carbohydrates, protein) VALUES (%s, %s, %s, %s, %s, %s);\"\n",
    "cursor.execute(insert_query, (field1, field2))\n",
    "connection.commit()\n",
    "cursor.close()\n",
    "connection.close()\n",
    "\n",
    "'''\n",
    "# API endpoint to fetch data\n",
    "@app.route('/fetch_data', methods=['GET'])\n",
    "def fetch_data():\n",
    "    try:\n",
    "        connection = mysql.connector.connect(**db_config)\n",
    "        cursor = connection.cursor(dictionary=True)\n",
    "        cursor.execute(\"SELECT * FROM label LIMIT 10;\")\n",
    "        results = cursor.fetchall()\n",
    "        return jsonify(results), 200\n",
    "    except mysql.connector.Error as e:\n",
    "        return jsonify({'error': str(e)}), 500\n",
    "    finally:\n",
    "        cursor.close()\n",
    "        connection.close()\n",
    "\n",
    "# API endpoint to insert data\n",
    "@app.route('/insert_data', methods=['POST'])\n",
    "def insert_data():\n",
    "    try:\n",
    "        data = request.json  # Expecting JSON payload\n",
    "        field1 = data.get('field1')  # Replace with your actual fields\n",
    "        field2 = data.get('field2')  # Replace with your actual fields\n",
    "\n",
    "        connection = mysql.connector.connect(**db_config)\n",
    "        cursor = connection.cursor()\n",
    "        insert_query = \"INSERT INTO labele (field1, field2) VALUES (%s, %s);\"\n",
    "        cursor.execute(insert_query, (field1, field2))\n",
    "        connection.commit()\n",
    "        return jsonify({'message': 'Data inserted successfully'}), 201\n",
    "    except mysql.connector.Error as e:\n",
    "        return jsonify({'error': str(e)}), 500\n",
    "    finally:\n",
    "        cursor.close()\n",
    "        connection.close()\n",
    "\n",
    "# Run the app (only for testing; do not use in production)\n",
    "if __name__ == '__main__':\n",
    "    app.run(host='0.0.0.0', port=5000)\n",
    "\n",
    "'''\n"
   ]
  },
  {
   "cell_type": "code",
   "execution_count": null,
   "metadata": {},
   "outputs": [],
   "source": []
  }
 ],
 "metadata": {
  "kernelspec": {
   "display_name": "Python 3 (ipykernel)",
   "language": "python",
   "name": "python3"
  },
  "language_info": {
   "codemirror_mode": {
    "name": "ipython",
    "version": 3
   },
   "file_extension": ".py",
   "mimetype": "text/x-python",
   "name": "python",
   "nbconvert_exporter": "python",
   "pygments_lexer": "ipython3",
   "version": "3.12.7"
  }
 },
 "nbformat": 4,
 "nbformat_minor": 4
}
