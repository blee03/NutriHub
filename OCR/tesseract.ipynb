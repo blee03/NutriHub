{
 "cells": [
  {
   "cell_type": "code",
   "execution_count": 6,
   "metadata": {},
   "outputs": [
    {
     "name": "stdout",
     "output_type": "stream",
     "text": [
      "Requirement already satisfied: pytesseract in c:\\users\\amals\\appdata\\local\\programs\\python\\python311\\lib\\site-packages (0.3.13)Note: you may need to restart the kernel to use updated packages.\n",
      "\n",
      "Requirement already satisfied: packaging>=21.3 in c:\\users\\amals\\appdata\\local\\programs\\python\\python311\\lib\\site-packages (from pytesseract) (24.1)\n",
      "Requirement already satisfied: Pillow>=8.0.0 in c:\\users\\amals\\appdata\\local\\programs\\python\\python311\\lib\\site-packages (from pytesseract) (9.5.0)\n"
     ]
    },
    {
     "name": "stderr",
     "output_type": "stream",
     "text": [
      "WARNING: Ignoring invalid distribution ~atplotlib (c:\\Users\\amals\\AppData\\Local\\Programs\\Python\\Python311\\Lib\\site-packages)\n",
      "WARNING: Ignoring invalid distribution ~atplotlib (c:\\Users\\amals\\AppData\\Local\\Programs\\Python\\Python311\\Lib\\site-packages)\n",
      "WARNING: Ignoring invalid distribution ~atplotlib (c:\\Users\\amals\\AppData\\Local\\Programs\\Python\\Python311\\Lib\\site-packages)\n"
     ]
    }
   ],
   "source": [
    "pip install pytesseract"
   ]
  },
  {
   "cell_type": "code",
   "execution_count": 1,
   "metadata": {},
   "outputs": [
    {
     "name": "stdout",
     "output_type": "stream",
     "text": [
      "Requirement already satisfied: pillow in c:\\users\\amals\\appdata\\local\\programs\\python\\python311\\lib\\site-packages (9.5.0)\n",
      "Note: you may need to restart the kernel to use updated packages.\n"
     ]
    },
    {
     "name": "stderr",
     "output_type": "stream",
     "text": [
      "WARNING: Ignoring invalid distribution ~atplotlib (c:\\Users\\amals\\AppData\\Local\\Programs\\Python\\Python311\\Lib\\site-packages)\n",
      "WARNING: Ignoring invalid distribution ~atplotlib (c:\\Users\\amals\\AppData\\Local\\Programs\\Python\\Python311\\Lib\\site-packages)\n",
      "WARNING: Ignoring invalid distribution ~atplotlib (c:\\Users\\amals\\AppData\\Local\\Programs\\Python\\Python311\\Lib\\site-packages)\n"
     ]
    }
   ],
   "source": [
    "pip install pillow"
   ]
  },
  {
   "cell_type": "code",
   "execution_count": 7,
   "metadata": {},
   "outputs": [],
   "source": [
    "import pytesseract\n",
    "from PIL import Image\n",
    "import re\n",
    "pytesseract.pytesseract.tesseract_cmd = r'C:\\Program Files\\Tesseract-OCR\\tesseract.exe'\n"
   ]
  },
  {
   "cell_type": "code",
   "execution_count": 10,
   "metadata": {},
   "outputs": [],
   "source": [
    "def extract_nutritional_facts(image_path):\n",
    "    image = Image.open(image_path)\n",
    "    text = pytesseract.image_to_string(image)\n",
    "    print(\"Raw OCR Output:\\n\", text)\n",
    "\n",
    "    patterns = {\n",
    "        'Calories': r'Calories\\s+(\\d+)',\n",
    "        'Total Fat': r'Total Fat\\s+(\\d+g)',\n",
    "        'Sodium': r'Sodium\\s+(\\d+mg)',\n",
    "        'Total Carbohydrate': r'Total Carbohydrate\\s+(\\d+g)',\n",
    "        'Protein': r'Protein\\s+(\\d+g)'\n",
    "    }\n",
    "    \n",
    "    nutrition_facts = {}\n",
    "\n",
    "    for nutrient, pattern in patterns.items():\n",
    "        match = re.search(pattern, text)\n",
    "        if match:\n",
    "            nutrition_facts[nutrient] = match.group(1)\n",
    "\n",
    "    for key, value in nutrition_facts.items():\n",
    "        try:\n",
    "            if 'g' in value:\n",
    "                nutrition_facts[key] = float(value.replace('g', ''))\n",
    "            elif 'mg' in value:\n",
    "                nutrition_facts[key] = float(value.replace('mg', '')) / 1000\n",
    "        except ValueError:\n",
    "            print(f\"Could not convert value for {key}: '{value}'\")\n",
    "\n",
    "    return nutrition_facts"
   ]
  },
  {
   "cell_type": "code",
   "execution_count": 11,
   "metadata": {},
   "outputs": [
    {
     "name": "stdout",
     "output_type": "stream",
     "text": [
      "Raw OCR Output:\n",
      " Nutrition Facts\n",
      "\n",
      "8 servings per container\n",
      "Serving size 2/3 cup (55g)\n",
      "\n",
      "Amount per serving\n",
      "Calories 230\n",
      "\n",
      "% Daily Value*\n",
      "\n",
      "Total Fat 8g 10%\n",
      "Saturated Fat ig 5%\n",
      "Trans Fat 0g\n",
      "\n",
      "Cholesterol Omg 0%\n",
      "\n",
      "Sodium 160mg 7%\n",
      "\n",
      "Total Carbohydrate 37g 13%\n",
      "Dietary Fiber 4g 14%\n",
      "\n",
      "Total Sugars 12g\n",
      "Includes 10g Added Sugars 20%\n",
      "Protein 3g\n",
      "\n",
      "Vitamin D 2mcg 10%\n",
      "Calcium 260mg 20%\n",
      "Iron 8mg 45%\n",
      "Potassium 240mg 6%\n",
      "————— ool\n",
      "\n",
      "* The % Daily Value (DV) tells you how much a nutrient in\n",
      "a serving of food contributes to a daily diet. 2,000 calories\n",
      "a day is used for general nutrition advice.\n",
      "\n",
      "(For educational purposes only. These labels do not meet\n",
      "the labeling requirements described in 21 CFR 101.9.)\n",
      "\n",
      "Could not convert value for Sodium: '160mg'\n",
      "\n",
      "Extracted Nutritional Facts:\n",
      " {'Calories': '230', 'Total Fat': 8.0, 'Sodium': '160mg', 'Total Carbohydrate': 37.0, 'Protein': 3.0}\n"
     ]
    }
   ],
   "source": [
    "image_path = 'nutrition_label.jpg'\n",
    "nutrition_facts = extract_nutritional_facts(image_path)\n",
    "print(\"\\nExtracted Nutritional Facts:\\n\", nutrition_facts)"
   ]
  }
 ],
 "metadata": {
  "kernelspec": {
   "display_name": "Python 3",
   "language": "python",
   "name": "python3"
  },
  "language_info": {
   "codemirror_mode": {
    "name": "ipython",
    "version": 3
   },
   "file_extension": ".py",
   "mimetype": "text/x-python",
   "name": "python",
   "nbconvert_exporter": "python",
   "pygments_lexer": "ipython3",
   "version": "3.11.4"
  }
 },
 "nbformat": 4,
 "nbformat_minor": 2
}
